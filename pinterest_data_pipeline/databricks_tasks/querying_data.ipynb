{
 "cells": [
  {
   "cell_type": "markdown",
   "metadata": {
    "application/vnd.databricks.v1+cell": {
     "cellMetadata": {},
     "inputWidgets": {},
     "nuid": "4c70d5e4-4e38-4744-be8d-cdc0e746fc4f",
     "showTitle": false,
     "tableResultSettingsMap": {},
     "title": ""
    }
   },
   "source": [
    "# Querying the data"
   ]
  },
  {
   "cell_type": "code",
   "execution_count": 0,
   "metadata": {
    "application/vnd.databricks.v1+cell": {
     "cellMetadata": {},
     "inputWidgets": {},
     "nuid": "6f285e47-5148-4c8b-8b8c-f77b1ae22f30",
     "showTitle": false,
     "tableResultSettingsMap": {},
     "title": ""
    }
   },
   "outputs": [],
   "source": [
    "# Run after mount_s3_load_data with clean_data appended "
   ]
  },
  {
   "cell_type": "code",
   "execution_count": 0,
   "metadata": {
    "application/vnd.databricks.v1+cell": {
     "cellMetadata": {},
     "inputWidgets": {},
     "nuid": "d68cb7fd-72e0-4805-b01a-df47321fad64",
     "showTitle": false,
     "tableResultSettingsMap": {},
     "title": ""
    }
   },
   "outputs": [],
   "source": [
    "from pyspark.sql.window import Window\n",
    "\n",
    "df_pin_geo = df_pin.join(df_geo, df_pin.ind == df_geo.ind)\n",
    "# create join of df_pin and df_user and a temporary view to run SQL query to create age group column\n",
    "df_pin.join(df_user, df_pin.ind == df_user.ind).createOrReplaceTempView(\"category_age\")\n",
    "age_groups = spark.sql(\n",
    "    \"SELECT CASE \\\n",
    "        WHEN age between 18 and 24 then '18-24' \\\n",
    "        WHEN age between 25 and 35 then '25-35' \\\n",
    "        WHEN age between 36 and 50 then '36-50' \\\n",
    "        WHEN age > 50 then '50+' \\\n",
    "        END as age_group, * FROM category_age\")"
   ]
  },
  {
   "cell_type": "markdown",
   "metadata": {
    "application/vnd.databricks.v1+cell": {
     "cellMetadata": {},
     "inputWidgets": {},
     "nuid": "72c3c99a-7cd4-4115-adb7-75e665eebb66",
     "showTitle": false,
     "tableResultSettingsMap": {},
     "title": ""
    }
   },
   "source": [
    "###Find the most popular category in each country"
   ]
  },
  {
   "cell_type": "code",
   "execution_count": 0,
   "metadata": {
    "application/vnd.databricks.v1+cell": {
     "cellMetadata": {},
     "inputWidgets": {},
     "nuid": "8042a7f5-b36e-415c-8e39-3c65404ead9a",
     "showTitle": false,
     "tableResultSettingsMap": {},
     "title": ""
    }
   },
   "outputs": [],
   "source": [
    "# order by category_count column and partition by country column\n",
    "window_popular_category = Window.partitionBy(\"country\").orderBy(col(\"category_count\").desc())\n",
    "# use aggregation function with df_pin_geo dataframe and window function to find the most popular category in each country\n",
    "df_pin_geo.groupBy(\"country\", \"category\") \\\n",
    ".agg(count(\"category\").alias(\"category_count\")) \\\n",
    ".withColumn(\"ranking\", row_number().over(window_popular_category)) \\\n",
    ".filter(col(\"ranking\") == 1).drop(\"ranking\") \\\n",
    ".show()"
   ]
  },
  {
   "cell_type": "markdown",
   "metadata": {
    "application/vnd.databricks.v1+cell": {
     "cellMetadata": {},
     "inputWidgets": {},
     "nuid": "48ca6f14-6e2a-4efa-8757-76b07fd026fc",
     "showTitle": false,
     "tableResultSettingsMap": {},
     "title": ""
    }
   },
   "source": [
    "### Find which was the most popular category each year"
   ]
  },
  {
   "cell_type": "code",
   "execution_count": 0,
   "metadata": {
    "application/vnd.databricks.v1+cell": {
     "cellMetadata": {},
     "inputWidgets": {},
     "nuid": "13b20852-a0c1-4b35-8ebb-6ec95154ba40",
     "showTitle": false,
     "tableResultSettingsMap": {},
     "title": ""
    }
   },
   "outputs": [],
   "source": [
    "# order by category_count column and partition by post_year column\n",
    "window_popular_category_year = Window.partitionBy(\"post_year\").orderBy(col(\"category_count\").desc())\n",
    "# use aggregation function with df_pin_geo dataframe and window function to find the most popular category in each year\n",
    "df_pin_geo.withColumn(\"post_year\", year(\"timestamp\")) \\\n",
    ".filter(col(\"post_year\") >= 2018).filter(col(\"post_year\") <= 2022) \\\n",
    ".groupBy(\"post_year\", \"category\").agg(count(\"category\").alias(\"category_count\")) \\\n",
    ".withColumn(\"ranking\", row_number().over(window_popular_category_year)) \\\n",
    ".filter(col(\"ranking\") == 1).drop(\"ranking\") \\\n",
    ".show()"
   ]
  },
  {
   "cell_type": "markdown",
   "metadata": {
    "application/vnd.databricks.v1+cell": {
     "cellMetadata": {},
     "inputWidgets": {},
     "nuid": "45ae2500-6fe7-428f-b6a0-0837992d5394",
     "showTitle": false,
     "tableResultSettingsMap": {},
     "title": ""
    }
   },
   "source": [
    "### Find the user with the most followers in each country"
   ]
  },
  {
   "cell_type": "code",
   "execution_count": 0,
   "metadata": {
    "application/vnd.databricks.v1+cell": {
     "cellMetadata": {},
     "inputWidgets": {},
     "nuid": "72654a14-a367-4e23-90f9-df7d92f62e7e",
     "showTitle": false,
     "tableResultSettingsMap": {},
     "title": ""
    }
   },
   "outputs": [],
   "source": [
    "# order by follower_count column and partition by country column\n",
    "window_followers_by_country = Window.partitionBy(\"country\").orderBy(col(\"follower_count\").desc())\n",
    "# use df_pin_geo dataframe and window function to find the user with the most followers in each country\n",
    "max_followers = df_pin_geo.withColumn(\"ranking\", row_number().over(window_followers_by_country)) \\\n",
    "    .filter(col(\"ranking\") == 1).select(\"country\", \"poster_name\", \"follower_count\")\n",
    "\n",
    "max_followers.show()"
   ]
  },
  {
   "cell_type": "markdown",
   "metadata": {
    "application/vnd.databricks.v1+cell": {
     "cellMetadata": {},
     "inputWidgets": {},
     "nuid": "2a70f2ba-5ea4-4783-b223-e4b0a856b967",
     "showTitle": false,
     "tableResultSettingsMap": {},
     "title": ""
    }
   },
   "source": [
    "### Find the country with the user with most followers"
   ]
  },
  {
   "cell_type": "code",
   "execution_count": 0,
   "metadata": {
    "application/vnd.databricks.v1+cell": {
     "cellMetadata": {},
     "inputWidgets": {},
     "nuid": "271496ab-9b8a-4660-b55c-42e08b7aa1ce",
     "showTitle": false,
     "tableResultSettingsMap": {},
     "title": ""
    }
   },
   "outputs": [],
   "source": [
    "# find max followers from max_followers dataframe\n",
    "max_user_followers = max_followers.select(max(\"follower_count\")).collect()[0][0]\n",
    "# use top result of max_followers dataframe to find the country with the user with the most followers\n",
    "country_max_followers = max_followers.select(\"*\").where(col(\"follower_count\") == max_user_followers)\n",
    "country_max_followers.show()"
   ]
  },
  {
   "cell_type": "markdown",
   "metadata": {
    "application/vnd.databricks.v1+cell": {
     "cellMetadata": {},
     "inputWidgets": {},
     "nuid": "786cc59e-0e5d-47e6-b8f6-9bbfc059116e",
     "showTitle": false,
     "tableResultSettingsMap": {},
     "title": ""
    }
   },
   "source": [
    "### Find the most popular category for different age groups"
   ]
  },
  {
   "cell_type": "code",
   "execution_count": 0,
   "metadata": {
    "application/vnd.databricks.v1+cell": {
     "cellMetadata": {},
     "inputWidgets": {},
     "nuid": "8c3c18f8-94f9-4ee7-8129-a92eb55c931a",
     "showTitle": false,
     "tableResultSettingsMap": {},
     "title": ""
    }
   },
   "outputs": [],
   "source": [
    "# order by category_count column and partition by age_group column\n",
    "window_popular_category_by_age = Window.partitionBy(\"age_group\").orderBy(col(\"category_count\").desc())\n",
    "# from age_groups use aggregation function to find the most popular category by age group\n",
    "age_groups.groupBy(\"age_group\", \"category\").agg(count(\"category\").alias(\"category_count\")) \\\n",
    ".withColumn(\"rank\", row_number().over(window_popular_category_by_age)) \\\n",
    ".filter(col(\"rank\") == 1).drop(\"rank\") \\\n",
    ".show()"
   ]
  },
  {
   "cell_type": "markdown",
   "metadata": {
    "application/vnd.databricks.v1+cell": {
     "cellMetadata": {},
     "inputWidgets": {},
     "nuid": "d7e6f2ec-ae54-4e5b-95f3-a3c6305f21f3",
     "showTitle": false,
     "tableResultSettingsMap": {},
     "title": ""
    }
   },
   "source": [
    "### Find the median follower count for different age groups"
   ]
  },
  {
   "cell_type": "code",
   "execution_count": 0,
   "metadata": {
    "application/vnd.databricks.v1+cell": {
     "cellMetadata": {},
     "inputWidgets": {},
     "nuid": "0c7e4466-7471-4764-91a5-35fb6689224f",
     "showTitle": false,
     "tableResultSettingsMap": {},
     "title": ""
    }
   },
   "outputs": [],
   "source": [
    "# from age_groups use aggregation function to find the median followers ordered by age group\n",
    "age_groups.select(\"user_name\", \"date_joined\", \"age_group\", \"follower_count\") \\\n",
    ".distinct().groupBy(\"age_group\").agg(percentile_approx(\"follower_count\", 0.5).alias(\"median_follower_count\")) \\\n",
    ".orderBy(\"age_group\") \\\n",
    ".show()"
   ]
  },
  {
   "cell_type": "markdown",
   "metadata": {
    "application/vnd.databricks.v1+cell": {
     "cellMetadata": {},
     "inputWidgets": {},
     "nuid": "5717a5b2-1d08-43cb-b11d-64d62411c4fa",
     "showTitle": false,
     "tableResultSettingsMap": {},
     "title": ""
    }
   },
   "source": [
    "### Find how many users joined each year"
   ]
  },
  {
   "cell_type": "code",
   "execution_count": 0,
   "metadata": {
    "application/vnd.databricks.v1+cell": {
     "cellMetadata": {},
     "inputWidgets": {},
     "nuid": "b586bf14-46ab-47ac-9ef9-5475702516ec",
     "showTitle": false,
     "tableResultSettingsMap": {},
     "title": ""
    }
   },
   "outputs": [],
   "source": [
    "# user user_df and aggregation function to find how many users joined in each year\n",
    "df_user.withColumn(\"post_year\", year(\"date_joined\")).drop(\"ind\").distinct() \\\n",
    ".filter(col(\"post_year\") >= 2015).filter(col(\"post_year\") <= 2020) \\\n",
    ".groupBy(\"post_year\").agg(count(\"user_name\").alias(\"number_users_joined\")) \\\n",
    ".orderBy(\"post_year\") \\\n",
    ".show()"
   ]
  },
  {
   "cell_type": "markdown",
   "metadata": {
    "application/vnd.databricks.v1+cell": {
     "cellMetadata": {},
     "inputWidgets": {},
     "nuid": "405a2bfa-c41e-4c29-8928-b5bd1bf71f30",
     "showTitle": false,
     "tableResultSettingsMap": {},
     "title": ""
    }
   },
   "source": [
    "### Find the median follower count of users based on their joining year"
   ]
  },
  {
   "cell_type": "code",
   "execution_count": 0,
   "metadata": {
    "application/vnd.databricks.v1+cell": {
     "cellMetadata": {},
     "inputWidgets": {},
     "nuid": "039ace03-13c7-491f-9924-d6e7c663e1ae",
     "showTitle": false,
     "tableResultSettingsMap": {},
     "title": ""
    }
   },
   "outputs": [],
   "source": [
    "# use age_groups and aggregation function to find the median followers based on their joining year\n",
    "age_groups.select(\"user_name\", \"date_joined\", \"follower_count\") \\\n",
    ".distinct().withColumn(\"post_year\", year(\"date_joined\")) \\\n",
    ".groupBy(\"post_year\").agg(percentile_approx(\"follower_count\", 0.5).alias(\"median_follower_count\")) \\\n",
    ".orderBy(\"post_year\") \\\n",
    ".show()"
   ]
  },
  {
   "cell_type": "markdown",
   "metadata": {
    "application/vnd.databricks.v1+cell": {
     "cellMetadata": {},
     "inputWidgets": {},
     "nuid": "af1e9e7a-abc9-4b42-bedb-8d3b2fd74334",
     "showTitle": false,
     "tableResultSettingsMap": {},
     "title": ""
    }
   },
   "source": [
    "### Find the median follower count of users based on their joining year and age group"
   ]
  },
  {
   "cell_type": "code",
   "execution_count": 0,
   "metadata": {
    "application/vnd.databricks.v1+cell": {
     "cellMetadata": {},
     "inputWidgets": {},
     "nuid": "0af937f1-ba01-47fd-a43c-fb8f6b4fe8da",
     "showTitle": false,
     "tableResultSettingsMap": {},
     "title": ""
    }
   },
   "outputs": [],
   "source": [
    "# use age_groups and aggregation function to find the median followers of users based on their joining year and age group\n",
    "age_groups.select(\"user_name\", \"age_group\", \"date_joined\", \"follower_count\") \\\n",
    ".distinct().withColumn(\"post_year\", year(\"date_joined\")) \\\n",
    ".groupBy(\"post_year\", \"age_group\").agg(percentile_approx(\"follower_count\", 0.5).alias(\"median_follower_count\")) \\\n",
    ".orderBy(\"post_year\", \"age_group\") \\\n",
    ".show()"
   ]
  }
 ],
 "metadata": {
  "application/vnd.databricks.v1+notebook": {
   "computePreferences": null,
   "dashboards": [],
   "environmentMetadata": {
    "base_environment": "",
    "client": "1"
   },
   "language": "python",
   "notebookMetadata": {
    "pythonIndentUnit": 4
   },
   "notebookName": "querying_data",
   "widgets": {}
  },
  "language_info": {
   "name": "python"
  }
 },
 "nbformat": 4,
 "nbformat_minor": 0
}
